{
 "cells": [
  {
   "cell_type": "code",
   "execution_count": 1,
   "id": "09faa13c-4aca-4109-809b-8d69d531feae",
   "metadata": {},
   "outputs": [],
   "source": [
    "import pandas as pd\n",
    "from sklearn.preprocessing import StandardScaler\n",
    "from sklearn.cluster import KMeans\n",
    "import matplotlib.pyplot as plt"
   ]
  },
  {
   "cell_type": "code",
   "execution_count": 2,
   "id": "b48bc52f-3e60-4131-bf8c-57643eb779b4",
   "metadata": {},
   "outputs": [],
   "source": [
    "df = pd.read_csv(\"Sample - Superstore.csv\", encoding='ISO-8859-1')"
   ]
  },
  {
   "cell_type": "code",
   "execution_count": 5,
   "id": "271382bb-8c40-4dae-9d17-828f25cf46a4",
   "metadata": {},
   "outputs": [],
   "source": [
    "customer_data = df.groupby(\"Customer ID\").agg({\n",
    "    \"Sales\": \"sum\",\n",
    "    \"Profit\": \"sum\",\n",
    "    \"Quantity\": \"sum\"\n",
    "}).reset_index()"
   ]
  },
  {
   "cell_type": "code",
   "execution_count": 6,
   "id": "a8a851bc-0c65-4660-b106-4bd5bb1611ed",
   "metadata": {},
   "outputs": [],
   "source": [
    "from sklearn.preprocessing import StandardScaler\n",
    "\n",
    "X = customer_data[[\"Sales\", \"Profit\", \"Quantity\"]]\n",
    "scaler = StandardScaler()\n",
    "X_scaled = scaler.fit_transform(X)\n"
   ]
  },
  {
   "cell_type": "code",
   "execution_count": 7,
   "id": "eb3d16ae-b3d6-4f1c-840d-ce2e5f1eb097",
   "metadata": {},
   "outputs": [],
   "source": [
    "#using a cluster of 4\n",
    "\n",
    "kmeans = KMeans(n_clusters=4, random_state=42)\n",
    "customer_data[\"Cluster\"] = kmeans.fit_predict(X_scaled)"
   ]
  },
  {
   "cell_type": "code",
   "execution_count": 8,
   "id": "422dccb3-e4ce-453c-805c-66df854a2671",
   "metadata": {},
   "outputs": [
    {
     "name": "stdout",
     "output_type": "stream",
     "text": [
      "                Sales       Profit   Quantity  Number of Customers\n",
      "Cluster                                                           \n",
      "0         5273.805487   503.259380  88.699029                  103\n",
      "1         1189.027789    49.571825  26.440729                  329\n",
      "2        10329.847032  2586.376173  67.951220                   41\n",
      "3         2935.265701   350.658601  53.912500                  320\n"
     ]
    }
   ],
   "source": [
    "cluster_summary = customer_data.groupby(\"Cluster\").agg({\n",
    "    \"Sales\": \"mean\",\n",
    "    \"Profit\": \"mean\",\n",
    "    \"Quantity\": \"mean\",\n",
    "    \"Customer ID\": \"count\"\n",
    "}).rename(columns={\"Customer ID\": \"Number of Customers\"})\n",
    "\n",
    "print(cluster_summary)\n"
   ]
  },
  {
   "cell_type": "code",
   "execution_count": null,
   "id": "21e96903-e9d3-44b6-bea4-0d06206db1e8",
   "metadata": {},
   "outputs": [],
   "source": []
  }
 ],
 "metadata": {
  "kernelspec": {
   "display_name": "Python 3 (ipykernel)",
   "language": "python",
   "name": "python3"
  },
  "language_info": {
   "codemirror_mode": {
    "name": "ipython",
    "version": 3
   },
   "file_extension": ".py",
   "mimetype": "text/x-python",
   "name": "python",
   "nbconvert_exporter": "python",
   "pygments_lexer": "ipython3",
   "version": "3.13.0"
  }
 },
 "nbformat": 4,
 "nbformat_minor": 5
}
